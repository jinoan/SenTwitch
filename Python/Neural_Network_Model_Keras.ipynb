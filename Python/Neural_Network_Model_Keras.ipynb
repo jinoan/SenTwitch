{
 "cells": [
  {
   "cell_type": "markdown",
   "metadata": {},
   "source": [
    "### 데이터 불러오기"
   ]
  },
  {
   "cell_type": "code",
   "execution_count": null,
   "metadata": {},
   "outputs": [],
   "source": [
    "# 모델 불러오기\n",
    "from gensim.models import word2vec\n",
    "model_name = '150features_30minwords_5context'\n",
    "w2v_model = word2vec.Word2Vec.load(model_name)"
   ]
  },
  {
   "cell_type": "code",
   "execution_count": null,
   "metadata": {},
   "outputs": [],
   "source": [
    "import pandas as pd\n",
    "import numpy as np\n",
    "\n",
    "# 단어 - 감정 사전 파일 열기\n",
    "emotions = pd.read_csv('emotion.csv')\n",
    "\n",
    "# 3점척도 -> 0~1사이의 점수로 변경\n",
    "emotions.iloc[:, 1:] = emotions.iloc[:, 1:]/3\n",
    "print(emotions.head())"
   ]
  },
  {
   "cell_type": "code",
   "execution_count": null,
   "metadata": {},
   "outputs": [],
   "source": [
    "# wv_array 작성\n",
    "wv_list = []\n",
    "for w in emotions['word']:\n",
    "    wv_list.append(w2v_model.wv[w])\n",
    "wv_arr = np.array(wv_list)\n",
    "wv_arr[:5, :5]"
   ]
  },
  {
   "cell_type": "markdown",
   "metadata": {},
   "source": [
    "### 케라스 모델 작성"
   ]
  },
  {
   "cell_type": "code",
   "execution_count": null,
   "metadata": {},
   "outputs": [],
   "source": [
    "from keras.models import Sequential\n",
    "from keras.layers import Dense, Dropout, Activation\n",
    "from keras.optimizers import Adam\n",
    "import numpy as np\n",
    "\n",
    "# 학습데이터 설정\n",
    "X_train = wv_arr\n",
    "Y_train = np.array(emotions.iloc[:, 1:])\n",
    "\n",
    "# 모델 리스트 준비\n",
    "models = list()\n",
    "for i in range(5):\n",
    "    \n",
    "    # 모델 구성\n",
    "    model = Sequential()\n",
    "    model.add(Dense(input_dim=150, units=150, activation='relu'))\n",
    "    model.add(Dropout(rate=0.3))\n",
    "    model.add(Dense(units=150, activation='relu'))\n",
    "    model.add(Dropout(rate=0.3))\n",
    "    model.add(Dense(units=8, activation='softmax'))\n",
    "\n",
    "    # 모델 옵션       \n",
    "    model.compile(optimizer=Adam(lr=0.001), loss='cosine_proximity', metrics=['accuracy'])\n",
    "\n",
    "    # 모델 학습\n",
    "    model.fit(X_train, Y_train, epochs=250, batch_size=50)\n",
    "    models.append(model)"
   ]
  },
  {
   "cell_type": "code",
   "execution_count": null,
   "metadata": {
    "scrolled": true
   },
   "outputs": [],
   "source": [
    "models[0].predict(np.array([w2v_model['ㅋㅋ']]))"
   ]
  },
  {
   "cell_type": "code",
   "execution_count": null,
   "metadata": {},
   "outputs": [],
   "source": [
    "# 모델 저장하기\n",
    "from keras.models import load_model\n",
    "for i, m in enumerate(models):\n",
    "    m.save('./model/ann_model{}.h5'.format(i))"
   ]
  },
  {
   "cell_type": "code",
   "execution_count": null,
   "metadata": {},
   "outputs": [],
   "source": [
    "# 모델 불러오기\n",
    "from keras.models import Sequential\n",
    "from keras.layers import Dense, Dropout, Activation\n",
    "from keras.optimizers import Adam\n",
    "import numpy as np\n",
    "\n",
    "from keras.models import load_model\n",
    "import os\n",
    "models = list()  # 불러온 모델을 담을 리스트\n",
    "path_dir = './model/'  # 파일 위치 경로\n",
    "file_list = os.listdir(path_dir)  # 파일 리스트\n",
    "for fl in file_list:\n",
    "    if fl.find('.h5') is not -1:  # 파일명에 '.h5'가 있으면\n",
    "        models.append(load_model(path_dir + fl))"
   ]
  },
  {
   "cell_type": "code",
   "execution_count": null,
   "metadata": {
    "scrolled": true
   },
   "outputs": [],
   "source": [
    "# 첫번째 모델의 계산 결과\n",
    "models[0].predict(np.array([w2v_model['졸리다']]))"
   ]
  },
  {
   "cell_type": "code",
   "execution_count": null,
   "metadata": {
    "scrolled": true
   },
   "outputs": [],
   "source": [
    "# 단어-감정 점수산출 함수\n",
    "def ens_emotion(models, word = '좋다'):\n",
    "    ens_result = np.zeros([8], dtype=np.float32)\n",
    "    for m in models:\n",
    "        ens_result = ens_result + m.predict(np.array([w2v_model[word]]))\n",
    "    ens_result = ens_result / len(models)\n",
    "    return ens_result\n",
    "\n",
    "word_emo = ens_emotion(models, '나간다')\n",
    "emo_list = ['joy', 'trust', 'fear', 'surprise', 'sadness', 'disgust', 'anger', 'anticipation']\n",
    "for i in range(len(emo_list)):\n",
    "    print('{}: {}'.format(emo_list[i], word_emo[0, i]/word_emo.sum()))"
   ]
  }
 ],
 "metadata": {
  "kernelspec": {
   "display_name": "data_env",
   "language": "python",
   "name": "data_env"
  },
  "language_info": {
   "codemirror_mode": {
    "name": "ipython",
    "version": 3
   },
   "file_extension": ".py",
   "mimetype": "text/x-python",
   "name": "python",
   "nbconvert_exporter": "python",
   "pygments_lexer": "ipython3",
   "version": "3.6.8"
  }
 },
 "nbformat": 4,
 "nbformat_minor": 2
}
